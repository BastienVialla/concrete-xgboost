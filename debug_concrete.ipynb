{
 "cells": [
  {
   "cell_type": "code",
   "execution_count": 1,
   "id": "lucky-alexander",
   "metadata": {},
   "outputs": [
    {
     "name": "stderr",
     "output_type": "stream",
     "text": [
      "/home/vialla/.local/lib/python3.8/site-packages/pkg_resources/__init__.py:123: PkgResourcesDeprecationWarning: 0.23ubuntu1 is an invalid version and will not be supported in a future release\n",
      "  warnings.warn(\n",
      "/home/vialla/.local/lib/python3.8/site-packages/pkg_resources/__init__.py:123: PkgResourcesDeprecationWarning: 0.1.36ubuntu1 is an invalid version and will not be supported in a future release\n",
      "  warnings.warn(\n"
     ]
    }
   ],
   "source": [
    "import platform\n",
    "import warnings\n",
    "\n",
    "# For warnings in xgboost.sklearn\n",
    "warnings.simplefilter(action=\"ignore\", category=FutureWarning)\n",
    "\n",
    "import time\n",
    "\n",
    "import matplotlib.pyplot as plt\n",
    "import numpy\n",
    "from matplotlib.colors import ListedColormap\n",
    "from sklearn.datasets import fetch_openml, make_circles\n",
    "from sklearn.ensemble import RandomForestClassifier as SklearnRandomForestClassifier\n",
    "from sklearn import metrics\n",
    "from sklearn.metrics import make_scorer, matthews_corrcoef, accuracy_score, roc_auc_score, roc_curve\n",
    "from sklearn.model_selection import GridSearchCV, train_test_split\n",
    "from xgboost.sklearn import XGBClassifier as SklearnXGBClassifier\n",
    "import xgboost\n",
    "\n",
    "import concrete\n",
    "from concrete.ml.sklearn import RandomForestClassifier as ConcreteRandomForestClassifier\n",
    "from concrete.ml.sklearn import XGBClassifier as ConcreteXGBClassifier\n",
    "\n",
    "import pandas as pd\n",
    "import seaborn as sns\n",
    "\n",
    "from tqdm.auto import tqdm\n",
    "\n",
    "%matplotlib inline"
   ]
  },
  {
   "cell_type": "code",
   "execution_count": 2,
   "id": "nuclear-right",
   "metadata": {},
   "outputs": [
    {
     "data": {
      "text/plain": [
       "'0.3.0'"
      ]
     },
     "execution_count": 2,
     "metadata": {},
     "output_type": "execute_result"
    }
   ],
   "source": [
    "concrete.ml.__version__"
   ]
  },
  {
   "cell_type": "markdown",
   "id": "intermediate-making",
   "metadata": {},
   "source": [
    "Intel(R) Core(TM) i7-9800X CPU @ 3.80GHz 8 cores, RAM 32 Go, WSL2 Windows 11"
   ]
  },
  {
   "cell_type": "code",
   "execution_count": 3,
   "id": "entertaining-dallas",
   "metadata": {},
   "outputs": [],
   "source": [
    "SEED = 0"
   ]
  },
  {
   "cell_type": "code",
   "execution_count": 4,
   "id": "appropriate-giving",
   "metadata": {},
   "outputs": [],
   "source": [
    "df = pd.read_csv('../data/train_feats.csv').sample(frac=1, random_state=SEED)"
   ]
  },
  {
   "cell_type": "code",
   "execution_count": 5,
   "id": "basic-landscape",
   "metadata": {},
   "outputs": [
    {
     "data": {
      "text/plain": [
       "(12670818, 10)"
      ]
     },
     "execution_count": 5,
     "metadata": {},
     "output_type": "execute_result"
    }
   ],
   "source": [
    "df.shape"
   ]
  },
  {
   "cell_type": "code",
   "execution_count": 6,
   "id": "sonic-nancy",
   "metadata": {},
   "outputs": [],
   "source": [
    "feats = ['feat'+str(i+1) for i in range(9)]"
   ]
  },
  {
   "cell_type": "code",
   "execution_count": 7,
   "id": "given-extreme",
   "metadata": {},
   "outputs": [
    {
     "data": {
      "text/plain": [
       "1900622"
      ]
     },
     "execution_count": 7,
     "metadata": {},
     "output_type": "execute_result"
    }
   ],
   "source": [
    "val_size = int(0.15*len(df))\n",
    "val_size"
   ]
  },
  {
   "cell_type": "code",
   "execution_count": 8,
   "id": "central-composer",
   "metadata": {},
   "outputs": [],
   "source": [
    "X_train, y_train = df[:-val_size][feats].values, df[:-val_size]['label'].values\n",
    "X_valid, y_valid = df[-val_size:][feats].values, df[-val_size:]['label'].values"
   ]
  },
  {
   "cell_type": "code",
   "execution_count": 9,
   "id": "contrary-dictionary",
   "metadata": {},
   "outputs": [
    {
     "data": {
      "text/plain": [
       "((10770196, 9), (1900622, 9))"
      ]
     },
     "execution_count": 9,
     "metadata": {},
     "output_type": "execute_result"
    }
   ],
   "source": [
    "X_train.shape, X_valid.shape"
   ]
  },
  {
   "cell_type": "code",
   "execution_count": 10,
   "id": "understood-reproduction",
   "metadata": {},
   "outputs": [],
   "source": [
    "X_train_concrete, y_train_concrete = X_train[:2_000_000], y_train[:2_000_000] # <- if more than 2 000 0000 elements\n",
    "X_valid_concrete, y_valid_concrete = X_valid, y_valid"
   ]
  },
  {
   "cell_type": "code",
   "execution_count": 11,
   "id": "changed-telescope",
   "metadata": {},
   "outputs": [],
   "source": [
    "def plot_roc_curve(data, thresholds = None):\n",
    "    plt.figure()\n",
    "    for k, v in data.items():\n",
    "        plt.plot(v['fp'], v['tp'] , label=f'{k} (area = %0.4f)' % metrics.auc(v['fp'], v['tp']))\n",
    "    plt.xlim([0.0, 1.0])\n",
    "    plt.ylim([0.0, 1.05])\n",
    "    plt.xlabel('False Positive Rate')\n",
    "    plt.ylabel('True Positive Rate')\n",
    "    plt.legend(loc=\"lower right\")\n",
    "\n",
    "    if len(data) == 1 and thresholds is not None:\n",
    "        ax2 = plt.gca().twinx()\n",
    "        ax2.plot(fpr, thresholds, markeredgecolor='r',linestyle='dashed', color='r')\n",
    "        ax2.set_ylabel('Threshold',color='r')\n",
    "        ax2.set_ylim([thresholds[-1],thresholds[0]])\n",
    "        ax2.set_xlim([fpr[0],fpr[-1]])\n",
    "\n",
    "    plt.savefig('roc_and_threshold.png')\n",
    "    return plt"
   ]
  },
  {
   "cell_type": "markdown",
   "id": "related-engagement",
   "metadata": {},
   "source": [
    "## XGboost"
   ]
  },
  {
   "cell_type": "code",
   "execution_count": 12,
   "id": "reliable-generator",
   "metadata": {},
   "outputs": [],
   "source": [
    "sklearn_clf = SklearnXGBClassifier(n_estimators=250, max_depth=3,\n",
    "                                 n_jobs=-1, eval_metric='auc',\n",
    "                                 early_stopping_rounds=25)"
   ]
  },
  {
   "cell_type": "code",
   "execution_count": 13,
   "id": "subjective-breach",
   "metadata": {},
   "outputs": [
    {
     "name": "stdout",
     "output_type": "stream",
     "text": [
      "[0]\tvalidation_0-auc:0.94293\n",
      "[1]\tvalidation_0-auc:0.95368\n",
      "[2]\tvalidation_0-auc:0.95704\n",
      "[3]\tvalidation_0-auc:0.95941\n",
      "[4]\tvalidation_0-auc:0.96116\n",
      "[5]\tvalidation_0-auc:0.96211\n",
      "[6]\tvalidation_0-auc:0.96444\n",
      "[7]\tvalidation_0-auc:0.96515\n",
      "[8]\tvalidation_0-auc:0.96637\n",
      "[9]\tvalidation_0-auc:0.96737\n",
      "[10]\tvalidation_0-auc:0.96863\n",
      "[11]\tvalidation_0-auc:0.96951\n",
      "[12]\tvalidation_0-auc:0.97000\n",
      "[13]\tvalidation_0-auc:0.97062\n",
      "[14]\tvalidation_0-auc:0.97134\n",
      "[15]\tvalidation_0-auc:0.97174\n",
      "[16]\tvalidation_0-auc:0.97264\n",
      "[17]\tvalidation_0-auc:0.97290\n",
      "[18]\tvalidation_0-auc:0.97375\n",
      "[19]\tvalidation_0-auc:0.97451\n",
      "[20]\tvalidation_0-auc:0.97483\n",
      "[21]\tvalidation_0-auc:0.97581\n",
      "[22]\tvalidation_0-auc:0.97597\n",
      "[23]\tvalidation_0-auc:0.97612\n",
      "[24]\tvalidation_0-auc:0.97635\n",
      "[25]\tvalidation_0-auc:0.97691\n",
      "[26]\tvalidation_0-auc:0.97727\n",
      "[27]\tvalidation_0-auc:0.97733\n",
      "[28]\tvalidation_0-auc:0.97754\n",
      "[29]\tvalidation_0-auc:0.97764\n",
      "[30]\tvalidation_0-auc:0.97776\n",
      "[31]\tvalidation_0-auc:0.97803\n",
      "[32]\tvalidation_0-auc:0.97857\n",
      "[33]\tvalidation_0-auc:0.97863\n",
      "[34]\tvalidation_0-auc:0.97878\n",
      "[35]\tvalidation_0-auc:0.97901\n",
      "[36]\tvalidation_0-auc:0.97907\n",
      "[37]\tvalidation_0-auc:0.97916\n",
      "[38]\tvalidation_0-auc:0.97921\n",
      "[39]\tvalidation_0-auc:0.97957\n",
      "[40]\tvalidation_0-auc:0.97960\n",
      "[41]\tvalidation_0-auc:0.97975\n",
      "[42]\tvalidation_0-auc:0.97986\n",
      "[43]\tvalidation_0-auc:0.97998\n",
      "[44]\tvalidation_0-auc:0.98009\n",
      "[45]\tvalidation_0-auc:0.98019\n",
      "[46]\tvalidation_0-auc:0.98041\n",
      "[47]\tvalidation_0-auc:0.98051\n",
      "[48]\tvalidation_0-auc:0.98057\n",
      "[49]\tvalidation_0-auc:0.98064\n",
      "[50]\tvalidation_0-auc:0.98078\n",
      "[51]\tvalidation_0-auc:0.98080\n",
      "[52]\tvalidation_0-auc:0.98084\n",
      "[53]\tvalidation_0-auc:0.98091\n",
      "[54]\tvalidation_0-auc:0.98092\n",
      "[55]\tvalidation_0-auc:0.98109\n",
      "[56]\tvalidation_0-auc:0.98121\n",
      "[57]\tvalidation_0-auc:0.98127\n",
      "[58]\tvalidation_0-auc:0.98134\n",
      "[59]\tvalidation_0-auc:0.98139\n",
      "[60]\tvalidation_0-auc:0.98150\n",
      "[61]\tvalidation_0-auc:0.98160\n",
      "[62]\tvalidation_0-auc:0.98174\n",
      "[63]\tvalidation_0-auc:0.98177\n",
      "[64]\tvalidation_0-auc:0.98183\n",
      "[65]\tvalidation_0-auc:0.98186\n",
      "[66]\tvalidation_0-auc:0.98188\n",
      "[67]\tvalidation_0-auc:0.98199\n",
      "[68]\tvalidation_0-auc:0.98207\n",
      "[69]\tvalidation_0-auc:0.98219\n",
      "[70]\tvalidation_0-auc:0.98225\n",
      "[71]\tvalidation_0-auc:0.98227\n",
      "[72]\tvalidation_0-auc:0.98231\n",
      "[73]\tvalidation_0-auc:0.98235\n",
      "[74]\tvalidation_0-auc:0.98248\n",
      "[75]\tvalidation_0-auc:0.98255\n",
      "[76]\tvalidation_0-auc:0.98261\n",
      "[77]\tvalidation_0-auc:0.98266\n",
      "[78]\tvalidation_0-auc:0.98271\n",
      "[79]\tvalidation_0-auc:0.98273\n",
      "[80]\tvalidation_0-auc:0.98279\n",
      "[81]\tvalidation_0-auc:0.98282\n",
      "[82]\tvalidation_0-auc:0.98288\n",
      "[83]\tvalidation_0-auc:0.98290\n",
      "[84]\tvalidation_0-auc:0.98293\n",
      "[85]\tvalidation_0-auc:0.98297\n",
      "[86]\tvalidation_0-auc:0.98300\n",
      "[87]\tvalidation_0-auc:0.98301\n",
      "[88]\tvalidation_0-auc:0.98307\n",
      "[89]\tvalidation_0-auc:0.98311\n",
      "[90]\tvalidation_0-auc:0.98317\n",
      "[91]\tvalidation_0-auc:0.98319\n",
      "[92]\tvalidation_0-auc:0.98325\n",
      "[93]\tvalidation_0-auc:0.98326\n",
      "[94]\tvalidation_0-auc:0.98327\n",
      "[95]\tvalidation_0-auc:0.98330\n",
      "[96]\tvalidation_0-auc:0.98335\n",
      "[97]\tvalidation_0-auc:0.98341\n",
      "[98]\tvalidation_0-auc:0.98344\n",
      "[99]\tvalidation_0-auc:0.98354\n",
      "[100]\tvalidation_0-auc:0.98360\n",
      "[101]\tvalidation_0-auc:0.98362\n",
      "[102]\tvalidation_0-auc:0.98363\n",
      "[103]\tvalidation_0-auc:0.98363\n",
      "[104]\tvalidation_0-auc:0.98374\n",
      "[105]\tvalidation_0-auc:0.98377\n",
      "[106]\tvalidation_0-auc:0.98380\n",
      "[107]\tvalidation_0-auc:0.98381\n",
      "[108]\tvalidation_0-auc:0.98382\n",
      "[109]\tvalidation_0-auc:0.98385\n",
      "[110]\tvalidation_0-auc:0.98388\n",
      "[111]\tvalidation_0-auc:0.98391\n",
      "[112]\tvalidation_0-auc:0.98395\n",
      "[113]\tvalidation_0-auc:0.98395\n",
      "[114]\tvalidation_0-auc:0.98397\n",
      "[115]\tvalidation_0-auc:0.98399\n",
      "[116]\tvalidation_0-auc:0.98403\n",
      "[117]\tvalidation_0-auc:0.98406\n",
      "[118]\tvalidation_0-auc:0.98408\n",
      "[119]\tvalidation_0-auc:0.98411\n",
      "[120]\tvalidation_0-auc:0.98413\n",
      "[121]\tvalidation_0-auc:0.98417\n",
      "[122]\tvalidation_0-auc:0.98419\n",
      "[123]\tvalidation_0-auc:0.98420\n",
      "[124]\tvalidation_0-auc:0.98423\n",
      "[125]\tvalidation_0-auc:0.98424\n",
      "[126]\tvalidation_0-auc:0.98427\n",
      "[127]\tvalidation_0-auc:0.98430\n",
      "[128]\tvalidation_0-auc:0.98431\n",
      "[129]\tvalidation_0-auc:0.98432\n",
      "[130]\tvalidation_0-auc:0.98436\n",
      "[131]\tvalidation_0-auc:0.98438\n",
      "[132]\tvalidation_0-auc:0.98439\n",
      "[133]\tvalidation_0-auc:0.98442\n",
      "[134]\tvalidation_0-auc:0.98442\n",
      "[135]\tvalidation_0-auc:0.98444\n",
      "[136]\tvalidation_0-auc:0.98447\n",
      "[137]\tvalidation_0-auc:0.98449\n",
      "[138]\tvalidation_0-auc:0.98450\n",
      "[139]\tvalidation_0-auc:0.98454\n",
      "[140]\tvalidation_0-auc:0.98454\n",
      "[141]\tvalidation_0-auc:0.98455\n",
      "[142]\tvalidation_0-auc:0.98458\n",
      "[143]\tvalidation_0-auc:0.98460\n",
      "[144]\tvalidation_0-auc:0.98460\n",
      "[145]\tvalidation_0-auc:0.98461\n",
      "[146]\tvalidation_0-auc:0.98461\n",
      "[147]\tvalidation_0-auc:0.98463\n",
      "[148]\tvalidation_0-auc:0.98464\n",
      "[149]\tvalidation_0-auc:0.98465\n",
      "[150]\tvalidation_0-auc:0.98467\n",
      "[151]\tvalidation_0-auc:0.98468\n",
      "[152]\tvalidation_0-auc:0.98469\n",
      "[153]\tvalidation_0-auc:0.98470\n",
      "[154]\tvalidation_0-auc:0.98472\n",
      "[155]\tvalidation_0-auc:0.98473\n",
      "[156]\tvalidation_0-auc:0.98478\n",
      "[157]\tvalidation_0-auc:0.98479\n",
      "[158]\tvalidation_0-auc:0.98480\n",
      "[159]\tvalidation_0-auc:0.98484\n",
      "[160]\tvalidation_0-auc:0.98485\n",
      "[161]\tvalidation_0-auc:0.98488\n",
      "[162]\tvalidation_0-auc:0.98489\n",
      "[163]\tvalidation_0-auc:0.98490\n",
      "[164]\tvalidation_0-auc:0.98490\n",
      "[165]\tvalidation_0-auc:0.98491\n",
      "[166]\tvalidation_0-auc:0.98492\n",
      "[167]\tvalidation_0-auc:0.98493\n",
      "[168]\tvalidation_0-auc:0.98494\n",
      "[169]\tvalidation_0-auc:0.98495\n",
      "[170]\tvalidation_0-auc:0.98496\n",
      "[171]\tvalidation_0-auc:0.98497\n",
      "[172]\tvalidation_0-auc:0.98499\n",
      "[173]\tvalidation_0-auc:0.98500\n",
      "[174]\tvalidation_0-auc:0.98502\n",
      "[175]\tvalidation_0-auc:0.98505\n",
      "[176]\tvalidation_0-auc:0.98506\n",
      "[177]\tvalidation_0-auc:0.98506\n",
      "[178]\tvalidation_0-auc:0.98513\n",
      "[179]\tvalidation_0-auc:0.98515\n",
      "[180]\tvalidation_0-auc:0.98517\n",
      "[181]\tvalidation_0-auc:0.98517\n",
      "[182]\tvalidation_0-auc:0.98519\n",
      "[183]\tvalidation_0-auc:0.98522\n",
      "[184]\tvalidation_0-auc:0.98522\n",
      "[185]\tvalidation_0-auc:0.98524\n",
      "[186]\tvalidation_0-auc:0.98526\n",
      "[187]\tvalidation_0-auc:0.98528\n",
      "[188]\tvalidation_0-auc:0.98530\n",
      "[189]\tvalidation_0-auc:0.98530\n",
      "[190]\tvalidation_0-auc:0.98531\n",
      "[191]\tvalidation_0-auc:0.98535\n",
      "[192]\tvalidation_0-auc:0.98536\n",
      "[193]\tvalidation_0-auc:0.98536\n",
      "[194]\tvalidation_0-auc:0.98537\n",
      "[195]\tvalidation_0-auc:0.98538\n",
      "[196]\tvalidation_0-auc:0.98540\n",
      "[197]\tvalidation_0-auc:0.98542\n",
      "[198]\tvalidation_0-auc:0.98543\n",
      "[199]\tvalidation_0-auc:0.98544\n",
      "[200]\tvalidation_0-auc:0.98544\n",
      "[201]\tvalidation_0-auc:0.98544\n",
      "[202]\tvalidation_0-auc:0.98546\n",
      "[203]\tvalidation_0-auc:0.98546\n",
      "[204]\tvalidation_0-auc:0.98547\n",
      "[205]\tvalidation_0-auc:0.98548\n",
      "[206]\tvalidation_0-auc:0.98548\n",
      "[207]\tvalidation_0-auc:0.98550\n",
      "[208]\tvalidation_0-auc:0.98550\n",
      "[209]\tvalidation_0-auc:0.98552\n",
      "[210]\tvalidation_0-auc:0.98552\n",
      "[211]\tvalidation_0-auc:0.98553\n",
      "[212]\tvalidation_0-auc:0.98556\n",
      "[213]\tvalidation_0-auc:0.98558\n",
      "[214]\tvalidation_0-auc:0.98558\n",
      "[215]\tvalidation_0-auc:0.98558\n",
      "[216]\tvalidation_0-auc:0.98559\n",
      "[217]\tvalidation_0-auc:0.98560\n",
      "[218]\tvalidation_0-auc:0.98561\n",
      "[219]\tvalidation_0-auc:0.98562\n",
      "[220]\tvalidation_0-auc:0.98563\n",
      "[221]\tvalidation_0-auc:0.98563\n",
      "[222]\tvalidation_0-auc:0.98564\n",
      "[223]\tvalidation_0-auc:0.98564\n",
      "[224]\tvalidation_0-auc:0.98567\n",
      "[225]\tvalidation_0-auc:0.98568\n",
      "[226]\tvalidation_0-auc:0.98568\n",
      "[227]\tvalidation_0-auc:0.98569\n",
      "[228]\tvalidation_0-auc:0.98570\n",
      "[229]\tvalidation_0-auc:0.98572\n",
      "[230]\tvalidation_0-auc:0.98572\n",
      "[231]\tvalidation_0-auc:0.98573\n",
      "[232]\tvalidation_0-auc:0.98573\n",
      "[233]\tvalidation_0-auc:0.98574\n",
      "[234]\tvalidation_0-auc:0.98575\n",
      "[235]\tvalidation_0-auc:0.98576\n",
      "[236]\tvalidation_0-auc:0.98578\n",
      "[237]\tvalidation_0-auc:0.98578\n",
      "[238]\tvalidation_0-auc:0.98579\n",
      "[239]\tvalidation_0-auc:0.98580\n",
      "[240]\tvalidation_0-auc:0.98581\n",
      "[241]\tvalidation_0-auc:0.98581\n",
      "[242]\tvalidation_0-auc:0.98582\n",
      "[243]\tvalidation_0-auc:0.98582\n",
      "[244]\tvalidation_0-auc:0.98583\n",
      "[245]\tvalidation_0-auc:0.98584\n",
      "[246]\tvalidation_0-auc:0.98584\n",
      "[247]\tvalidation_0-auc:0.98584\n",
      "[248]\tvalidation_0-auc:0.98585\n",
      "[249]\tvalidation_0-auc:0.98586\n"
     ]
    },
    {
     "data": {
      "text/html": [
       "<style>#sk-container-id-1 {color: black;background-color: white;}#sk-container-id-1 pre{padding: 0;}#sk-container-id-1 div.sk-toggleable {background-color: white;}#sk-container-id-1 label.sk-toggleable__label {cursor: pointer;display: block;width: 100%;margin-bottom: 0;padding: 0.3em;box-sizing: border-box;text-align: center;}#sk-container-id-1 label.sk-toggleable__label-arrow:before {content: \"▸\";float: left;margin-right: 0.25em;color: #696969;}#sk-container-id-1 label.sk-toggleable__label-arrow:hover:before {color: black;}#sk-container-id-1 div.sk-estimator:hover label.sk-toggleable__label-arrow:before {color: black;}#sk-container-id-1 div.sk-toggleable__content {max-height: 0;max-width: 0;overflow: hidden;text-align: left;background-color: #f0f8ff;}#sk-container-id-1 div.sk-toggleable__content pre {margin: 0.2em;color: black;border-radius: 0.25em;background-color: #f0f8ff;}#sk-container-id-1 input.sk-toggleable__control:checked~div.sk-toggleable__content {max-height: 200px;max-width: 100%;overflow: auto;}#sk-container-id-1 input.sk-toggleable__control:checked~label.sk-toggleable__label-arrow:before {content: \"▾\";}#sk-container-id-1 div.sk-estimator input.sk-toggleable__control:checked~label.sk-toggleable__label {background-color: #d4ebff;}#sk-container-id-1 div.sk-label input.sk-toggleable__control:checked~label.sk-toggleable__label {background-color: #d4ebff;}#sk-container-id-1 input.sk-hidden--visually {border: 0;clip: rect(1px 1px 1px 1px);clip: rect(1px, 1px, 1px, 1px);height: 1px;margin: -1px;overflow: hidden;padding: 0;position: absolute;width: 1px;}#sk-container-id-1 div.sk-estimator {font-family: monospace;background-color: #f0f8ff;border: 1px dotted black;border-radius: 0.25em;box-sizing: border-box;margin-bottom: 0.5em;}#sk-container-id-1 div.sk-estimator:hover {background-color: #d4ebff;}#sk-container-id-1 div.sk-parallel-item::after {content: \"\";width: 100%;border-bottom: 1px solid gray;flex-grow: 1;}#sk-container-id-1 div.sk-label:hover label.sk-toggleable__label {background-color: #d4ebff;}#sk-container-id-1 div.sk-serial::before {content: \"\";position: absolute;border-left: 1px solid gray;box-sizing: border-box;top: 0;bottom: 0;left: 50%;z-index: 0;}#sk-container-id-1 div.sk-serial {display: flex;flex-direction: column;align-items: center;background-color: white;padding-right: 0.2em;padding-left: 0.2em;position: relative;}#sk-container-id-1 div.sk-item {position: relative;z-index: 1;}#sk-container-id-1 div.sk-parallel {display: flex;align-items: stretch;justify-content: center;background-color: white;position: relative;}#sk-container-id-1 div.sk-item::before, #sk-container-id-1 div.sk-parallel-item::before {content: \"\";position: absolute;border-left: 1px solid gray;box-sizing: border-box;top: 0;bottom: 0;left: 50%;z-index: -1;}#sk-container-id-1 div.sk-parallel-item {display: flex;flex-direction: column;z-index: 1;position: relative;background-color: white;}#sk-container-id-1 div.sk-parallel-item:first-child::after {align-self: flex-end;width: 50%;}#sk-container-id-1 div.sk-parallel-item:last-child::after {align-self: flex-start;width: 50%;}#sk-container-id-1 div.sk-parallel-item:only-child::after {width: 0;}#sk-container-id-1 div.sk-dashed-wrapped {border: 1px dashed gray;margin: 0 0.4em 0.5em 0.4em;box-sizing: border-box;padding-bottom: 0.4em;background-color: white;}#sk-container-id-1 div.sk-label label {font-family: monospace;font-weight: bold;display: inline-block;line-height: 1.2em;}#sk-container-id-1 div.sk-label-container {text-align: center;}#sk-container-id-1 div.sk-container {/* jupyter's `normalize.less` sets `[hidden] { display: none; }` but bootstrap.min.css set `[hidden] { display: none !important; }` so we also need the `!important` here to be able to override the default hidden behavior on the sphinx rendered scikit-learn.org. See: https://github.com/scikit-learn/scikit-learn/issues/21755 */display: inline-block !important;position: relative;}#sk-container-id-1 div.sk-text-repr-fallback {display: none;}</style><div id=\"sk-container-id-1\" class=\"sk-top-container\"><div class=\"sk-text-repr-fallback\"><pre>XGBClassifier(base_score=0.5, booster=&#x27;gbtree&#x27;, callbacks=None,\n",
       "              colsample_bylevel=1, colsample_bynode=1, colsample_bytree=1,\n",
       "              early_stopping_rounds=25, enable_categorical=False,\n",
       "              eval_metric=&#x27;auc&#x27;, gamma=0, gpu_id=-1, grow_policy=&#x27;depthwise&#x27;,\n",
       "              importance_type=None, interaction_constraints=&#x27;&#x27;,\n",
       "              learning_rate=0.300000012, max_bin=256, max_cat_to_onehot=4,\n",
       "              max_delta_step=0, max_depth=3, max_leaves=0, min_child_weight=1,\n",
       "              missing=nan, monotone_constraints=&#x27;()&#x27;, n_estimators=250,\n",
       "              n_jobs=-1, num_parallel_tree=1, predictor=&#x27;auto&#x27;, random_state=0,\n",
       "              reg_alpha=0, reg_lambda=1, ...)</pre><b>In a Jupyter environment, please rerun this cell to show the HTML representation or trust the notebook. <br />On GitHub, the HTML representation is unable to render, please try loading this page with nbviewer.org.</b></div><div class=\"sk-container\" hidden><div class=\"sk-item\"><div class=\"sk-estimator sk-toggleable\"><input class=\"sk-toggleable__control sk-hidden--visually\" id=\"sk-estimator-id-1\" type=\"checkbox\" checked><label for=\"sk-estimator-id-1\" class=\"sk-toggleable__label sk-toggleable__label-arrow\">XGBClassifier</label><div class=\"sk-toggleable__content\"><pre>XGBClassifier(base_score=0.5, booster=&#x27;gbtree&#x27;, callbacks=None,\n",
       "              colsample_bylevel=1, colsample_bynode=1, colsample_bytree=1,\n",
       "              early_stopping_rounds=25, enable_categorical=False,\n",
       "              eval_metric=&#x27;auc&#x27;, gamma=0, gpu_id=-1, grow_policy=&#x27;depthwise&#x27;,\n",
       "              importance_type=None, interaction_constraints=&#x27;&#x27;,\n",
       "              learning_rate=0.300000012, max_bin=256, max_cat_to_onehot=4,\n",
       "              max_delta_step=0, max_depth=3, max_leaves=0, min_child_weight=1,\n",
       "              missing=nan, monotone_constraints=&#x27;()&#x27;, n_estimators=250,\n",
       "              n_jobs=-1, num_parallel_tree=1, predictor=&#x27;auto&#x27;, random_state=0,\n",
       "              reg_alpha=0, reg_lambda=1, ...)</pre></div></div></div></div></div>"
      ],
      "text/plain": [
       "XGBClassifier(base_score=0.5, booster='gbtree', callbacks=None,\n",
       "              colsample_bylevel=1, colsample_bynode=1, colsample_bytree=1,\n",
       "              early_stopping_rounds=25, enable_categorical=False,\n",
       "              eval_metric='auc', gamma=0, gpu_id=-1, grow_policy='depthwise',\n",
       "              importance_type=None, interaction_constraints='',\n",
       "              learning_rate=0.300000012, max_bin=256, max_cat_to_onehot=4,\n",
       "              max_delta_step=0, max_depth=3, max_leaves=0, min_child_weight=1,\n",
       "              missing=nan, monotone_constraints='()', n_estimators=250,\n",
       "              n_jobs=-1, num_parallel_tree=1, predictor='auto', random_state=0,\n",
       "              reg_alpha=0, reg_lambda=1, ...)"
      ]
     },
     "execution_count": 13,
     "metadata": {},
     "output_type": "execute_result"
    }
   ],
   "source": [
    "sklearn_clf.fit(X=X_train, y=y_train, eval_set=[(X_valid_concrete, y_valid_concrete)])"
   ]
  },
  {
   "cell_type": "code",
   "execution_count": 14,
   "id": "active-monster",
   "metadata": {},
   "outputs": [],
   "source": [
    "res_xgboost = {}\n",
    "y_preds = sklearn_clf.predict_proba(X_valid_concrete)[:,1]\n",
    "fpr, tpr, _ = roc_curve(y_valid_concrete, y_preds)\n",
    "res_xgboost = {'fp':fpr, 'tp':tpr}"
   ]
  },
  {
   "cell_type": "markdown",
   "id": "residential-display",
   "metadata": {},
   "source": [
    "## Concrete \n",
    "\n",
    "### n_bits"
   ]
  },
  {
   "cell_type": "code",
   "execution_count": 15,
   "id": "sacred-palestinian",
   "metadata": {},
   "outputs": [
    {
     "data": {
      "application/vnd.jupyter.widget-view+json": {
       "model_id": "c8103848923b427189d776acd608a86c",
       "version_major": 2,
       "version_minor": 0
      },
      "text/plain": [
       "  0%|          | 0/4 [00:00<?, ?it/s]"
      ]
     },
     "metadata": {},
     "output_type": "display_data"
    }
   ],
   "source": [
    "res = {}\n",
    "for n_bits in tqdm([5, 6, 7, 8]):\n",
    "    concrete_clf = ConcreteXGBClassifier(n_jobs=-1, max_depth=2,  n_estimators=25, n_bits=n_bits)\n",
    "    concrete_clf.fit(X=X_train_concrete, y=y_train_concrete)\n",
    "    y_preds = concrete_clf.predict_proba(X_valid)[:,1]\n",
    "    fpr, tpr, _ = roc_curve(y_valid, y_preds)\n",
    "    res[f'nbits_{n_bits}'] = {'fp':fpr, 'tp':tpr}"
   ]
  },
  {
   "cell_type": "code",
   "execution_count": 16,
   "id": "nutritional-issue",
   "metadata": {},
   "outputs": [],
   "source": [
    "res['xgboost_baseline'] = res_xgboost"
   ]
  },
  {
   "cell_type": "code",
   "execution_count": 17,
   "id": "blessed-absorption",
   "metadata": {},
   "outputs": [
    {
     "data": {
      "text/plain": [
       "<module 'matplotlib.pyplot' from '/home/vialla/.local/lib/python3.8/site-packages/matplotlib/pyplot.py'>"
      ]
     },
     "execution_count": 17,
     "metadata": {},
     "output_type": "execute_result"
    },
    {
     "data": {
      "image/png": "[encoded data removed]",
      "text/plain": [
       "<Figure size 432x288 with 1 Axes>"
      ]
     },
     "metadata": {
      "needs_background": "light"
     },
     "output_type": "display_data"
    }
   ],
   "source": [
    "plot_roc_curve(res)"
   ]
  },
  {
   "cell_type": "markdown",
   "id": "verified-debate",
   "metadata": {},
   "source": [
    "## max_depth"
   ]
  },
  {
   "cell_type": "code",
   "execution_count": 18,
   "id": "infinite-insulin",
   "metadata": {},
   "outputs": [
    {
     "data": {
      "application/vnd.jupyter.widget-view+json": {
       "model_id": "9ab8b6ce5a884d4da4089f32a235f39d",
       "version_major": 2,
       "version_minor": 0
      },
      "text/plain": [
       "  0%|          | 0/2 [00:00<?, ?it/s]"
      ]
     },
     "metadata": {},
     "output_type": "display_data"
    }
   ],
   "source": [
    "res = {}\n",
    "for max_depth in tqdm([2, 3]): # 4, 5 <- memory error, process killed by system \n",
    "    concrete_clf = ConcreteXGBClassifier(n_jobs=-1, max_depth=max_depth,  n_estimators=25, n_bits=5)\n",
    "    concrete_clf.fit(X=X_train_concrete, y=y_train_concrete)\n",
    "    y_preds = concrete_clf.predict_proba(X_valid)[:,1]\n",
    "    fpr, tpr, _ = roc_curve(y_valid, y_preds)\n",
    "    res[f'max_depth_{max_depth}'] = {'fp':fpr, 'tp':tpr}"
   ]
  },
  {
   "cell_type": "code",
   "execution_count": 19,
   "id": "concrete-profile",
   "metadata": {},
   "outputs": [],
   "source": [
    "res['xgboost_baseline'] = res_xgboost"
   ]
  },
  {
   "cell_type": "code",
   "execution_count": 20,
   "id": "scheduled-salem",
   "metadata": {},
   "outputs": [
    {
     "data": {
      "text/plain": [
       "<module 'matplotlib.pyplot' from '/home/vialla/.local/lib/python3.8/site-packages/matplotlib/pyplot.py'>"
      ]
     },
     "execution_count": 20,
     "metadata": {},
     "output_type": "execute_result"
    },
    {
     "data": {
      "image/png": "[encoded data removed]",
      "text/plain": [
       "<Figure size 432x288 with 1 Axes>"
      ]
     },
     "metadata": {
      "needs_background": "light"
     },
     "output_type": "display_data"
    }
   ],
   "source": [
    "plot_roc_curve(res)"
   ]
  },
  {
   "cell_type": "markdown",
   "id": "terminal-intent",
   "metadata": {},
   "source": [
    "## n_estimators"
   ]
  },
  {
   "cell_type": "code",
   "execution_count": 21,
   "id": "enormous-backing",
   "metadata": {},
   "outputs": [
    {
     "data": {
      "application/vnd.jupyter.widget-view+json": {
       "model_id": "c12f017bc55f482b809114230891e031",
       "version_major": 2,
       "version_minor": 0
      },
      "text/plain": [
       "  0%|          | 0/4 [00:00<?, ?it/s]"
      ]
     },
     "metadata": {},
     "output_type": "display_data"
    }
   ],
   "source": [
    "res = {}\n",
    "for n_estimators in tqdm([10, 25, 50, 75]): # 100, 250 <- memory error, process killed\n",
    "    concrete_clf = ConcreteXGBClassifier(n_jobs=-1, max_depth=2,  n_estimators=n_estimators, n_bits=5)\n",
    "    concrete_clf.fit(X=X_train_concrete, y=y_train_concrete)\n",
    "    y_preds = concrete_clf.predict_proba(X_valid)[:,1]\n",
    "    fpr, tpr, _ = roc_curve(y_valid, y_preds)\n",
    "    res[f'n_estim_{n_estimators}'] = {'fp':fpr, 'tp':tpr}"
   ]
  },
  {
   "cell_type": "code",
   "execution_count": 22,
   "id": "pressed-denver",
   "metadata": {},
   "outputs": [],
   "source": [
    "res['xgboost_baseline'] = res_xgboost"
   ]
  },
  {
   "cell_type": "code",
   "execution_count": 23,
   "id": "prescription-manitoba",
   "metadata": {},
   "outputs": [
    {
     "data": {
      "text/plain": [
       "<module 'matplotlib.pyplot' from '/home/vialla/.local/lib/python3.8/site-packages/matplotlib/pyplot.py'>"
      ]
     },
     "execution_count": 23,
     "metadata": {},
     "output_type": "execute_result"
    },
    {
     "data": {
      "image/png": "[encoded data removed]",
      "text/plain": [
       "<Figure size 432x288 with 1 Axes>"
      ]
     },
     "metadata": {
      "needs_background": "light"
     },
     "output_type": "display_data"
    }
   ],
   "source": [
    "plot_roc_curve(res)"
   ]
  },
  {
   "cell_type": "code",
   "execution_count": null,
   "id": "continuous-capability",
   "metadata": {},
   "outputs": [],
   "source": []
  }
 ],
 "metadata": {
  "kernelspec": {
   "display_name": "Python 3",
   "language": "python",
   "name": "python3"
  },
  "language_info": {
   "codemirror_mode": {
    "name": "ipython",
    "version": 3
   },
   "file_extension": ".py",
   "mimetype": "text/x-python",
   "name": "python",
   "nbconvert_exporter": "python",
   "pygments_lexer": "ipython3",
   "version": "3.8.10"
  }
 },
 "nbformat": 4,
 "nbformat_minor": 5
}
